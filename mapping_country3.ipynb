{
 "cells": [
  {
   "cell_type": "markdown",
   "metadata": {},
   "source": [
    "# Load data"
   ]
  },
  {
   "cell_type": "code",
   "execution_count": 7,
   "metadata": {},
   "outputs": [
    {
     "data": {
      "text/plain": [
       "(18623, 13)"
      ]
     },
     "execution_count": 7,
     "metadata": {},
     "output_type": "execute_result"
    }
   ],
   "source": [
    "import pandas as pd\n",
    "\n",
    "located_data = pd.read_csv('located_data.csv')\n",
    "del located_data['replyToSN'], located_data['replyToSID'], located_data['replyToUID'], located_data['statusSource']\n",
    "\n",
    "located_data.shape"
   ]
  },
  {
   "cell_type": "code",
   "execution_count": 8,
   "metadata": {},
   "outputs": [
    {
     "data": {
      "text/html": [
       "<div>\n",
       "<style scoped>\n",
       "    .dataframe tbody tr th:only-of-type {\n",
       "        vertical-align: middle;\n",
       "    }\n",
       "\n",
       "    .dataframe tbody tr th {\n",
       "        vertical-align: top;\n",
       "    }\n",
       "\n",
       "    .dataframe thead th {\n",
       "        text-align: right;\n",
       "    }\n",
       "</style>\n",
       "<table border=\"1\" class=\"dataframe\">\n",
       "  <thead>\n",
       "    <tr style=\"text-align: right;\">\n",
       "      <th></th>\n",
       "      <th>text</th>\n",
       "      <th>favorited</th>\n",
       "      <th>favoriteCount</th>\n",
       "      <th>created</th>\n",
       "      <th>truncated</th>\n",
       "      <th>id</th>\n",
       "      <th>screenName</th>\n",
       "      <th>retweetCount</th>\n",
       "      <th>isRetweet</th>\n",
       "      <th>retweeted</th>\n",
       "      <th>userPlace</th>\n",
       "      <th>lat</th>\n",
       "      <th>lon</th>\n",
       "    </tr>\n",
       "  </thead>\n",
       "  <tbody>\n",
       "    <tr>\n",
       "      <th>0</th>\n",
       "      <td>RT @ianbremmer: China&lt;U+2019&gt;s One Belt One Ro...</td>\n",
       "      <td>False</td>\n",
       "      <td>0</td>\n",
       "      <td>2018-01-06 23:57:59</td>\n",
       "      <td>False</td>\n",
       "      <td>9.497922e+17</td>\n",
       "      <td>andreasbergmann</td>\n",
       "      <td>339</td>\n",
       "      <td>True</td>\n",
       "      <td>False</td>\n",
       "      <td>Paris</td>\n",
       "      <td>2.352222</td>\n",
       "      <td>48.856614</td>\n",
       "    </tr>\n",
       "    <tr>\n",
       "      <th>1</th>\n",
       "      <td>RT @ianbremmer: China&lt;U+2019&gt;s One Belt One Ro...</td>\n",
       "      <td>False</td>\n",
       "      <td>0</td>\n",
       "      <td>2018-01-06 23:41:06</td>\n",
       "      <td>False</td>\n",
       "      <td>9.497879e+17</td>\n",
       "      <td>sdaziano</td>\n",
       "      <td>339</td>\n",
       "      <td>True</td>\n",
       "      <td>False</td>\n",
       "      <td>Paris</td>\n",
       "      <td>2.352222</td>\n",
       "      <td>48.856614</td>\n",
       "    </tr>\n",
       "    <tr>\n",
       "      <th>2</th>\n",
       "      <td>RT @ianbremmer: China&lt;U+2019&gt;s One Belt One Ro...</td>\n",
       "      <td>False</td>\n",
       "      <td>0</td>\n",
       "      <td>2018-01-06 23:38:11</td>\n",
       "      <td>False</td>\n",
       "      <td>9.497872e+17</td>\n",
       "      <td>RobSturrock</td>\n",
       "      <td>339</td>\n",
       "      <td>True</td>\n",
       "      <td>False</td>\n",
       "      <td>Sydney, New South Wales</td>\n",
       "      <td>151.209295</td>\n",
       "      <td>-33.868820</td>\n",
       "    </tr>\n",
       "  </tbody>\n",
       "</table>\n",
       "</div>"
      ],
      "text/plain": [
       "                                                text  favorited  \\\n",
       "0  RT @ianbremmer: China<U+2019>s One Belt One Ro...      False   \n",
       "1  RT @ianbremmer: China<U+2019>s One Belt One Ro...      False   \n",
       "2  RT @ianbremmer: China<U+2019>s One Belt One Ro...      False   \n",
       "\n",
       "   favoriteCount              created  truncated            id  \\\n",
       "0              0  2018-01-06 23:57:59      False  9.497922e+17   \n",
       "1              0  2018-01-06 23:41:06      False  9.497879e+17   \n",
       "2              0  2018-01-06 23:38:11      False  9.497872e+17   \n",
       "\n",
       "        screenName  retweetCount  isRetweet  retweeted  \\\n",
       "0  andreasbergmann           339       True      False   \n",
       "1         sdaziano           339       True      False   \n",
       "2      RobSturrock           339       True      False   \n",
       "\n",
       "                 userPlace         lat        lon  \n",
       "0                    Paris    2.352222  48.856614  \n",
       "1                    Paris    2.352222  48.856614  \n",
       "2  Sydney, New South Wales  151.209295 -33.868820  "
      ]
     },
     "execution_count": 8,
     "metadata": {},
     "output_type": "execute_result"
    }
   ],
   "source": [
    "located_data.head(3)"
   ]
  },
  {
   "cell_type": "markdown",
   "metadata": {},
   "source": [
    "# Map country by coordinates"
   ]
  },
  {
   "cell_type": "code",
   "execution_count": 9,
   "metadata": {},
   "outputs": [],
   "source": [
    "def coord_tuple(located_data):\n",
    "    \n",
    "    return (located_data['lon'], located_data['lat'])\n",
    "\n",
    "located_data['coordinates'] = located_data.apply(coord_tuple, axis = 1)"
   ]
  },
  {
   "cell_type": "code",
   "execution_count": 10,
   "metadata": {},
   "outputs": [
    {
     "data": {
      "text/plain": [
       "'France'"
      ]
     },
     "execution_count": 10,
     "metadata": {},
     "output_type": "execute_result"
    }
   ],
   "source": [
    "def Tag_country(coordinates):\n",
    "\n",
    "    from geopy.geocoders import Nominatim\n",
    "    geolocator = Nominatim()\n",
    "\n",
    "    try:\n",
    "        location = geolocator.reverse(coordinates, language= 'en-GB') # specify language\n",
    "        country = location.raw['address']['country']\n",
    "        return country\n",
    "    \n",
    "    except:\n",
    "        return 'Error'\n",
    "\n",
    "Tag_country(located_data['coordinates'][1])\n",
    "\n",
    "\n",
    "#located_data['coordinates'][:5].apply(Tag_country)\n",
    "\n",
    "\n"
   ]
  },
  {
   "cell_type": "code",
   "execution_count": null,
   "metadata": {},
   "outputs": [],
   "source": [
    "located_data['country'] = None"
   ]
  },
  {
   "cell_type": "code",
   "execution_count": null,
   "metadata": {},
   "outputs": [],
   "source": [
    "%%time\n",
    "\n",
    "#located_data['country'] = None\n",
    "located_data['country'][:50] = located_data['coordinates'][:50].apply(Tag_country)  #1m38s\n",
    "#located_data['country'][100:1000] = located_data['coordinates'][1000:3000].apply(Tag_country)#14m\n",
    "#located_data['country'][1000:3000] = located_data['coordinates'][1000:3000].apply(Tag_country) #31m\n",
    "#located_data['country'][3000:5000] = located_data['coordinates'][3000:5000].apply(Tag_country) #33m\n",
    "#located_data['country'][5000:7000] = located_data['coordinates'][5000:7000].apply(Tag_country) #33m\n",
    "#located_data['country'][7000:10000] = located_data['coordinates'][7000:10000].apply(Tag_country)"
   ]
  },
  {
   "cell_type": "code",
   "execution_count": null,
   "metadata": {},
   "outputs": [],
   "source": [
    "located_data['country'][:7000].value_counts()"
   ]
  },
  {
   "cell_type": "markdown",
   "metadata": {},
   "source": [
    "# Match Region Tag"
   ]
  },
  {
   "cell_type": "code",
   "execution_count": null,
   "metadata": {},
   "outputs": [],
   "source": [
    "########Asia亚洲\n",
    "\n",
    "EastAsia = ['Japan', 'North Korea', 'South Korea']\n",
    "\n",
    "NorthEastAsia = ['Mongolia','Russia'] #2\n",
    "\n",
    "SouthEastAsia = ['Brunei', 'Cambodia', 'Indonesia', 'Laos', 'Malaysia', \n",
    "                  'Myanmar', 'Philippines', 'Singapore', 'Thailand', 'Vietnam', 'East-Timor'] #11\n",
    "\n",
    "CentralAsia = ['Kazakhstan', 'Kyrgyzstan', 'Tajikistan', 'Turkmenistan', 'Uzbekistan']\n",
    "\n",
    "SouthAsia = ['Bangladesh', 'Bhutan', 'India', 'Maldives', 'Nepal', 'Pakistan', 'Sri Lanka']#7\n",
    "\n",
    "MiddleEastandNorthAfrica = ['Afghanistan', 'Azerbaijan', 'Armenia','Bahrain', 'Egypt', 'Georgia', \n",
    "                            'Iran', 'Iraq', 'Israel', 'Jordan', 'Kuwait','Lebanon', 'Oman',\n",
    "                            'Turkey', 'Qatar', 'Saudi Arabia', 'Palestine', 'Syria', \n",
    "                            'United Arab Emirates', 'Yemen'] #20"
   ]
  },
  {
   "cell_type": "code",
   "execution_count": null,
   "metadata": {},
   "outputs": [],
   "source": [
    "#######Euro欧洲 \n",
    "\n",
    "MiddleEastEurope = ['Albania', 'Belarus', 'B&H', 'Bulgaria', 'Croatia', 'Czechia', 'Estonia',  \n",
    "                     'Hungary', 'Latvia', 'Lithuania', 'Macedonia', 'Moldova', 'Montenegro', \n",
    "                     'Poland', 'Romania', 'Serbia', 'Slovakia', 'Slovenia',  'Ukraine'] #19\n",
    "\n",
    "RestofEurope = ['United Kingdom','Belgium','France','Ireland','Luxembourg', \n",
    "                 'Monaco','The Netherlands','Spain','Portugal', 'Andorra', \n",
    "                 'Greece', 'Germany', 'Italy', 'Kosovo', 'Malta', 'Macedonia', \n",
    "                 'Sweden', 'Switzerland','Denmark','Finland','Norway','Iceland']\n",
    "\n",
    "#########Australia澳洲\n",
    "Australia = ['Australia', 'New Zealand','Fiji', 'Marshall Islands',\n",
    "              'Federated States of Micronesia','Solomon Islands'] #都有推\n"
   ]
  },
  {
   "cell_type": "code",
   "execution_count": null,
   "metadata": {},
   "outputs": [],
   "source": [
    "########Africa非洲\n",
    "\n",
    "NorthAfrica = ['Algeria','Egypt','Libya', 'Morocco', 'South Sudan', 'Sudan', \n",
    "                'Tunisia', 'Western Sahara']\n",
    "#8 # 只有Egypt，Libya，Tuisia有tweets\n",
    "\n",
    "EastAfrica = ['Burundi', 'Comoros', 'Djibouti', 'Eritrea', 'Ethiopia', 'Kenya', \n",
    "               'Madagascar', 'Malawi', 'Mauritius', 'Mayotte', 'Mozambique', \n",
    "               'Reunion', 'Rwanda', 'Seychelles', 'Somalia', 'Tanzania', 'Uganda', \n",
    "               'Zambia', 'Zimbabwe']\n",
    "# Comoros， Eritrea， Mayotte，Mozambique， Seychelles 无tweets\n",
    "\n",
    "WestAfrica = ['Benin', 'Burkina Faso', 'Cape Verde', 'Côte d\\'Ivoire' , 'Gambia',\n",
    "               'Ghana', 'Papua New Guinea', 'Guinea-Bissau', 'Liberia', 'Mali', \n",
    "               'Mauritania', 'Niger', 'Nigeria', 'Saint Helena', 'Senegal', 'Sierra Leone', 'Togo'] \n",
    "# Benin， Cape Verde， Coted Ivoire， Gambia， Guinea-Bissau，Saint Helena Liberia，Mauritania 无\n",
    "\n",
    "MiddleAfrica = ['Angola', 'Cameroon', 'Central African Republic', 'Chad', \n",
    "                 'Congo', 'DR Congo',  'Gabon', 'Sao Tome and Principe']\n",
    "#7 #Angola, Chad, Congo, Equatorial Guinea, Gabon, Sao Tome and Principe 无\n",
    "\n",
    "SouthAfrica = ['Botswana', 'Lesotho',  'Namibia', 'South Africa', 'Swaziland']\n",
    "#5 #'South Africa', 'Swaziland'无"
   ]
  },
  {
   "cell_type": "code",
   "execution_count": null,
   "metadata": {},
   "outputs": [],
   "source": [
    "#########America美洲\n",
    "NorthAmerica = ['United States of America', 'Canada']\n",
    "\n",
    "LatinAmerica = ['Belize', 'Costa Rica', 'El Salvador', 'Jamaica', 'Guatemala',\n",
    "                'Honduras', 'Mexico', 'Nicaragua', 'Panama', 'Argentina', 'Bolivia', \n",
    "                'Brazil', 'Chile', 'Colombia', 'Ecuador', 'French Guiana', 'Guyana', \n",
    "                'Paraguay', 'Peru', 'Suriname', 'Uruguay', 'Venezuela', 'Cuba', 'Aruba', \n",
    "                'D.R.', 'Haiti', 'The Bahamas', 'Guadeloupe', 'Martinique', 'Puerto Rico', \n",
    "                'Saint-Barthélemy', 'Saint-Martin']\n",
    "#32(including 5 dependencies) #El Salvador, French Guiana, Guyana, Suriname, 及5个自由邦无"
   ]
  },
  {
   "cell_type": "markdown",
   "metadata": {},
   "source": [
    "## compile"
   ]
  },
  {
   "cell_type": "code",
   "execution_count": null,
   "metadata": {},
   "outputs": [],
   "source": [
    "%%time \n",
    "\n",
    "def Tag_subregion(x):\n",
    "    \n",
    "    # OBOR: 6 parts\n",
    "    if x in NorthEastAsia:\n",
    "        return 'Northeast Asia'\n",
    "    elif x in SouthEastAsia:\n",
    "        return 'Southeast Asia'\n",
    "    elif x in CentralAsia:\n",
    "        return 'Central Asia'\n",
    "    elif x in MiddleEastandNorthAfrica:\n",
    "        return 'MiddleEast & NorthAfrica'\n",
    "    elif x in SouthAsia:\n",
    "        return 'South Asia'\n",
    "    elif x in MiddleEastEurope:\n",
    "        return 'MiddleEast Europe'\n",
    "\n",
    "    # Non-OBOR: 5 continents (4 +  )\n",
    "    elif x in RestofEurope:\n",
    "        return 'Rest of Europe'\n",
    "    elif x in NorthAfrica:\n",
    "        return 'North Africa'\n",
    "    elif x in EastAfrica:\n",
    "        return 'East Africa'\n",
    "    elif x in WestAfrica:\n",
    "        return 'West Africa'\n",
    "    elif x in MiddleAfrica:\n",
    "        return 'Middle Africa'\n",
    "    elif x in SouthAfrica:\n",
    "        return 'South Africa'\n",
    "    elif x in Australia:\n",
    "        return 'Australia'\n",
    "    elif x in NorthAmerica:\n",
    "        return 'North America'\n",
    "    elif x in LatinAmerica:\n",
    "        return 'Latin America'\n",
    "    else:\n",
    "        return 'Nowhere'\n",
    "\n",
    "located_data['subregion'] = located_data['country'].apply(Tag_subregion)"
   ]
  },
  {
   "cell_type": "code",
   "execution_count": null,
   "metadata": {},
   "outputs": [],
   "source": [
    "located_data['subregion'][located_data['subregion'] != 'Nowhere'].describe()"
   ]
  },
  {
   "cell_type": "code",
   "execution_count": null,
   "metadata": {},
   "outputs": [],
   "source": [
    "located_data.tail(100)"
   ]
  },
  {
   "cell_type": "code",
   "execution_count": null,
   "metadata": {},
   "outputs": [],
   "source": [
    "%%time \n",
    "\n",
    "# By Continent\n",
    "# OBOR: 6 parts\n",
    "# Non-OBOR: 5 parts (EastAsia, Africa, RestofEurope, Australia, NorthAmerica, LatiAmerica)\n",
    "Asia = ['Japan', 'North Korea', 'South Korea', 'Northeast Asia', 'Southeast Asia', \n",
    "        'Central Asia', 'MiddleEast & NorthAfrica', 'South Asia'] \n",
    "Africa = ['North Africa', 'East Africa', 'West Africa', 'Middle Africa', 'South Africa']\n",
    "Europe = ['MiddleEast Europe', 'Rest of Europe']\n",
    "# Austrailia， NorthAmerica， LatinAmerica\n",
    "\n",
    "def Tag_continent(x):\n",
    "    \n",
    "    if x in Asia:\n",
    "        return 'Asia'\n",
    "    elif x in Europe:\n",
    "        return 'Europe'\n",
    "    elif x in Africa:\n",
    "        return 'Africa'\n",
    "    elif x in Australia:\n",
    "        return 'Australia'\n",
    "    elif x in NorthAmerica:\n",
    "        return 'North America'\n",
    "    elif x in LatinAmerica:\n",
    "        return 'Latin America'\n",
    "    else:\n",
    "        return 'Nowhere'\n",
    "    \n",
    "located_data['continent'] = located_data['subregion'].apply(Tag_continent)"
   ]
  },
  {
   "cell_type": "code",
   "execution_count": null,
   "metadata": {},
   "outputs": [],
   "source": [
    "%%time \n",
    "\n",
    "# By OBOR\n",
    "# 2 sub-groups\n",
    "\n",
    "OBOR_all64 = [ 'NorthEastAsia', 'Southeas tAsia' , 'Central Asia', \n",
    "              'Central Asia', 'MiddleEastandNorthAfrica', 'SouthAsia', 'MiddleEastEurope']\n",
    "#itertools.chain(a, b)\n",
    "\n",
    "def Tag_OBOR(x):\n",
    "    \n",
    "    if x in OBOR_all64:\n",
    "        return 'OBOR'\n",
    "    else:\n",
    "        return 'Non-OBOR'\n",
    "\n",
    "located_data['OBOR'] = located_data['continent'].apply(Tag_OBOR)"
   ]
  },
  {
   "cell_type": "code",
   "execution_count": null,
   "metadata": {},
   "outputs": [],
   "source": [
    "located_data.head(100)"
   ]
  },
  {
   "cell_type": "code",
   "execution_count": null,
   "metadata": {},
   "outputs": [],
   "source": []
  },
  {
   "cell_type": "code",
   "execution_count": null,
   "metadata": {},
   "outputs": [],
   "source": [
    "located_data[located_data['OBOR'] == 'OBOR']"
   ]
  }
 ],
 "metadata": {
  "kernelspec": {
   "display_name": "Python 3",
   "language": "python",
   "name": "python3"
  },
  "language_info": {
   "codemirror_mode": {
    "name": "ipython",
    "version": 3
   },
   "file_extension": ".py",
   "mimetype": "text/x-python",
   "name": "python",
   "nbconvert_exporter": "python",
   "pygments_lexer": "ipython3",
   "version": "3.5.4"
  }
 },
 "nbformat": 4,
 "nbformat_minor": 2
}
